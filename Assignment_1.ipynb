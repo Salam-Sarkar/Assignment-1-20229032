{
  "nbformat": 4,
  "nbformat_minor": 0,
  "metadata": {
    "colab": {
      "provenance": [],
      "authorship_tag": "ABX9TyNJ6mDyFnzSAEJpFg8N7kEX",
      "include_colab_link": true
    },
    "kernelspec": {
      "name": "python3",
      "display_name": "Python 3"
    },
    "language_info": {
      "name": "python"
    }
  },
  "cells": [
    {
      "cell_type": "markdown",
      "metadata": {
        "id": "view-in-github",
        "colab_type": "text"
      },
      "source": [
        "<a href=\"https://colab.research.google.com/github/Salam-Sarkar/Assignment-1-20229032/blob/main/Assignment_1.ipynb\" target=\"_parent\"><img src=\"https://colab.research.google.com/assets/colab-badge.svg\" alt=\"Open In Colab\"/></a>"
      ]
    },
    {
      "cell_type": "markdown",
      "source": [],
      "metadata": {
        "id": "OfVLstsGyxOy"
      }
    },
    {
      "cell_type": "markdown",
      "source": [
        "1. Write a Python program to count the number of characters (character frequency) in a string."
      ],
      "metadata": {
        "id": "N-ET01Bly0aL"
      }
    },
    {
      "cell_type": "code",
      "source": [
        "string=\"google.com\"\n",
        "freq={}                                                                           #Dictionary for storing frequencies\n",
        "for char in string:                                                               #Loop for counting frequency of each characters\n",
        "  if char in freq:\n",
        "    freq[char]+=1                                                                 #Incrementing count of character based on presence of the character in the dictionary\n",
        "  else:\n",
        "    freq[char]=1                                                                  #Assigning frequency value as 1 if a character not already present in the dictionary\n",
        "print(freq)"
      ],
      "metadata": {
        "colab": {
          "base_uri": "https://localhost:8080/"
        },
        "id": "UnWaMu6R2iKa",
        "outputId": "1ad60c1b-3f6b-4ab2-e0c4-18eb9ae4681d"
      },
      "execution_count": null,
      "outputs": [
        {
          "output_type": "stream",
          "name": "stdout",
          "text": [
            "{'g': 2, 'o': 3, 'l': 1, 'e': 1, '.': 1, 'c': 1, 'm': 1}\n"
          ]
        }
      ]
    },
    {
      "cell_type": "markdown",
      "source": [
        "2. Write a Python program to check if a given key already exists in a dictionary."
      ],
      "metadata": {
        "id": "k5LmXzpjAT4M"
      }
    },
    {
      "cell_type": "code",
      "source": [
        "dict={'Material':'Steel', 'Process':'Forming', 'Quantity':200, 'Rejection':5, 'Delivery':120}\n",
        "key=input(\"Please enter a key to check:      \")                                   #User input to find existance of desired key\n",
        "if key in dict:                                                                   #Loop to find existance of the key\n",
        "  print(f\"The key '{key}' found in the dictionary\")\n",
        "else:\n",
        "  print(f\"The key '{key}' not found in the dictionary\")\n"
      ],
      "metadata": {
        "id": "dYBe-ZfgAbCm",
        "colab": {
          "base_uri": "https://localhost:8080/"
        },
        "outputId": "423579c0-bada-4841-e5a6-b30b49edea92"
      },
      "execution_count": null,
      "outputs": [
        {
          "output_type": "stream",
          "name": "stdout",
          "text": [
            "Please enter a key to check:      Material\n",
            "The key 'Material' found in the dictionary\n"
          ]
        }
      ]
    },
    {
      "cell_type": "markdown",
      "source": [
        "3. Write a Python program that accepts a sequence of comma-separated numbers from the user and generates a list and a tuple of those numbers."
      ],
      "metadata": {
        "id": "HUtdJ8spYaEO"
      }
    },
    {
      "cell_type": "code",
      "source": [
        "numbers = input(\"Enter numbers seperated by commas: \")\n",
        "\n",
        "list = numbers.split(',')                                                         #Converting input strings list to integer list\n",
        "list = [int(num) for num in list]                                                 #Defining list\n",
        "\n",
        "tuple = tuple(list)                                                               #Defining tuple\n",
        "\n",
        "print(\"List:\", list)\n",
        "print(\"Tuple:\", tuple)"
      ],
      "metadata": {
        "colab": {
          "base_uri": "https://localhost:8080/"
        },
        "id": "zdbJ7R3IYcZW",
        "outputId": "ea578cc2-b5fb-4a4a-e2ee-f0ab0850f5c4"
      },
      "execution_count": 22,
      "outputs": [
        {
          "output_type": "stream",
          "name": "stdout",
          "text": [
            "Enter numbers seperated by commas: 1, 2, 12, 15, 11\n",
            "List: [1, 2, 12, 15, 11]\n",
            "Tuple: (1, 2, 12, 15, 11)\n"
          ]
        }
      ]
    },
    {
      "cell_type": "markdown",
      "source": [
        "4. Write a Python program to calculate the number of days between two dates."
      ],
      "metadata": {
        "id": "hnjHZS0mublW"
      }
    },
    {
      "cell_type": "code",
      "source": [
        "from datetime import date\n",
        "\n",
        "format = \"%d-%m-%Y\"                                                               #Defining date format\n",
        "date1=input(\"Enter the first date(dd-mm-YYYY):  \")                                #User input of first date \n",
        "date2=input(\"Enter the second date(dd-mm-YYYY):  \")                               #User input of second date\n",
        "a=datetime.strptime(date1, format).date()                                         #Changing input string to calculateable date format\n",
        "b=datetime.strptime(date2, format).date()                                         #Changing input string to calculateable date format\n",
        "diff=abs(a-b).days                                                                #Calculation of number of days between dates and making the difference absolute number\n",
        "print(f\"The number of days between {date1} and {date2} is {diff} days\")           #Output"
      ],
      "metadata": {
        "colab": {
          "base_uri": "https://localhost:8080/"
        },
        "id": "JJwLUGQ6uilP",
        "outputId": "8c99fcd8-adb7-47f2-efe6-67413899c338"
      },
      "execution_count": null,
      "outputs": [
        {
          "output_type": "stream",
          "name": "stdout",
          "text": [
            "Enter the first date(dd-mm-YYYY):  6-12-1991\n",
            "Enter the second date(dd-mm-YYYY):  1-4-2023\n",
            "The number of days between 6-12-1991 and 1-4-2023 is 11439 days\n"
          ]
        }
      ]
    },
    {
      "cell_type": "markdown",
      "source": [
        "5. Write a Python program to solve (x + y) * (x + y)."
      ],
      "metadata": {
        "id": "Ep9mFTgdGU7s"
      }
    },
    {
      "cell_type": "code",
      "source": [
        "input1=input(\"Enter the value for x:   \")                                         #Taking input for x from user\n",
        "input2=input(\"Enter the value for y:   \")                                         #Taking input for y from user\n",
        "x=int(input1)                                                                     #Conversion of input of x to integer\n",
        "y=int(input2)                                                                     #Conversion of input of y to integer\n",
        "solution=(x+y)*(x+y)                                                              #Calculation\n",
        "print(f\"The solution for ({x}+{y})^2 is {solution}\")                              #Output"
      ],
      "metadata": {
        "colab": {
          "base_uri": "https://localhost:8080/"
        },
        "id": "Nk3XnKC9GhTn",
        "outputId": "995e74d5-0d70-4b82-8fe6-fe8355393bbc"
      },
      "execution_count": null,
      "outputs": [
        {
          "output_type": "stream",
          "name": "stdout",
          "text": [
            "Enter the value for x:   5\n",
            "Enter the value for y:   6\n",
            "The solution for (5+6)^2 is 121\n"
          ]
        }
      ]
    },
    {
      "cell_type": "markdown",
      "source": [
        "6. Write a Python program to compute the future value of a specified principal amount,rate of interest, and number of years."
      ],
      "metadata": {
        "id": "y7fATvi-K-SO"
      }
    },
    {
      "cell_type": "code",
      "source": [
        "principal=float(input(\"Enter the principal amount:    \"))\n",
        "rate=float(input(\"Enter the interest rate:    \"))\n",
        "period=float(input(\"Enter number of years:    \"))\n",
        "r=rate/100                                                                        #Conerting percentage to decimal numeber\n",
        "future_value=round(principal*((1+r)**period),2)                                   #Calculating future value\n",
        "print(f\"The future value will be {future_value}\")"
      ],
      "metadata": {
        "colab": {
          "base_uri": "https://localhost:8080/"
        },
        "id": "bAzte08yLDGP",
        "outputId": "7f3900f1-538e-4056-8edb-11260ce35cb7"
      },
      "execution_count": 21,
      "outputs": [
        {
          "output_type": "stream",
          "name": "stdout",
          "text": [
            "Enter the principal amount:    10000\n",
            "Enter the interest rate:    3.5\n",
            "Enter number of years:    7\n",
            "The future value will be 12722.79\n"
          ]
        }
      ]
    },
    {
      "cell_type": "markdown",
      "source": [
        "7. Write a Python program that removes duplicate elements from a given array of numbers so that each element appears only once and returns the new length of the array."
      ],
      "metadata": {
        "id": "Yd0WBLHlVAMm"
      }
    },
    {
      "cell_type": "code",
      "source": [
        "array = input(\"Please input your number:   \")\n",
        "list = [int(num) for num in array.split()]                                        #Converting input strings as integer\n",
        "def dup_remover(arr):                                                             #Defining function to remove duplicates\n",
        "  arr.sort()\n",
        "  unique_num=[]\n",
        "  for i in range(len(arr)):\n",
        "        if i == 0 or arr[i] != arr[i-1]:                                          #Checking uniqueness of the numer\n",
        "            unique_num.append(arr[i])                                             #Adding unique numbers to unique_num\n",
        "  return unique_num, len(unique_num)                                              #Creating tuple that contains list of unique numbers and length of the list\n",
        "unique_nums, new_length = dup_remover(list)\n",
        "print(\"The list of unique numbers:\", unique_nums)\n",
        "print(\"Length of the unique list:\", new_length)"
      ],
      "metadata": {
        "id": "ys_PYf5xVE6H",
        "colab": {
          "base_uri": "https://localhost:8080/"
        },
        "outputId": "ad0cc9b1-6180-48ae-b224-c15c359ff6c2"
      },
      "execution_count": 11,
      "outputs": [
        {
          "output_type": "stream",
          "name": "stdout",
          "text": [
            "Please input your number:   0 1 11 0 1 2 1 5 8\n",
            "The list of unique numbers: [0, 1, 2, 5, 8, 11]\n",
            "Length of the unique list: 6\n"
          ]
        }
      ]
    },
    {
      "cell_type": "markdown",
      "source": [],
      "metadata": {
        "id": "yLlRDIOS9LlX"
      }
    },
    {
      "cell_type": "markdown",
      "source": [
        "8. Write a Python program to sort (ascending and descending) a dictionary by key value."
      ],
      "metadata": {
        "id": "CUc6unR0FS_R"
      }
    },
    {
      "cell_type": "code",
      "source": [
        "icc_ranking = {'Australia':6, 'Srilanka':8, 'India':1, 'Bangladesh':9, 'England':2,'Afghanistan':10, 'Africa':4 }\n",
        "\n",
        "sorted_dict_ascending = dict(sorted(icc_ranking.items(), key=lambda item: item[1]))                     #Defining value of keys as a parameter for sorting in ascending order\n",
        "\n",
        "sorted_dict_descending = dict(sorted(icc_ranking.items(), key=lambda item: item[1], reverse=True))      #Defining value of keys as a parameter for sorting in descending order\n",
        "\n",
        "print(\"ICC ranking in ascending order: \", sorted_dict_ascending)\n",
        "print(\"ICC ranking in descending order: \", sorted_dict_descending)\n"
      ],
      "metadata": {
        "colab": {
          "base_uri": "https://localhost:8080/"
        },
        "id": "k2tAhNcxFVhJ",
        "outputId": "eb1cdbef-929b-47f7-f8ac-37d457b08933"
      },
      "execution_count": 14,
      "outputs": [
        {
          "output_type": "stream",
          "name": "stdout",
          "text": [
            "ICC ranking in ascending order:  {'India': 1, 'England': 2, 'Africa': 4, 'Australia': 6, 'Srilanka': 8, 'Bangladesh': 9, 'Afghanistan': 10}\n",
            "ICC ranking in descending order:  {'Afghanistan': 10, 'Bangladesh': 9, 'Srilanka': 8, 'Australia': 6, 'Africa': 4, 'England': 2, 'India': 1}\n"
          ]
        }
      ]
    },
    {
      "cell_type": "markdown",
      "source": [
        "9. Write a Python program to add key to a dictionary"
      ],
      "metadata": {
        "id": "dHZKb11RJFkb"
      }
    },
    {
      "cell_type": "code",
      "source": [
        "icc_ranking = {'Australia':6, 'Srilanka':8, 'India':1, 'Bangladesh':9, 'England':2,'Afghanistan':10, 'Africa':4 }\n",
        "print(f\"Old dictionary is: {icc_ranking}\")                                        #Printing dictionary before addition of new key\n",
        "icc_ranking[\"Pakistan\"]=3                                                         #Addition of new key\n",
        "print(f\"New dictionary is:  {icc_ranking}\")                                       #Printing dictionary after addition of new key\n"
      ],
      "metadata": {
        "colab": {
          "base_uri": "https://localhost:8080/"
        },
        "id": "Yd0bZQvKJub_",
        "outputId": "2c702915-baf4-483e-aeff-3d66dd8b29f6"
      },
      "execution_count": 20,
      "outputs": [
        {
          "output_type": "stream",
          "name": "stdout",
          "text": [
            "Old dictionary is: {'Australia': 6, 'Srilanka': 8, 'India': 1, 'Bangladesh': 9, 'England': 2, 'Afghanistan': 10, 'Africa': 4}\n",
            "New dictionary is:  {'Australia': 6, 'Srilanka': 8, 'India': 1, 'Bangladesh': 9, 'England': 2, 'Afghanistan': 10, 'Africa': 4, 'Pakistan': 3}\n"
          ]
        }
      ]
    },
    {
      "cell_type": "markdown",
      "source": [
        "10. Write a Pandas program to create and display a DataFrame from a specified dictionary data which has the index labels."
      ],
      "metadata": {
        "id": "_G-g7l4uLKk8"
      }
    },
    {
      "cell_type": "code",
      "source": [
        "import pandas as pd\n",
        "import numpy as np\n",
        "\n",
        "exam_data = {                                                                     #Defining dictionary data\n",
        "    'name': ['Arif', 'Asir', 'Arik', 'Anis', 'Anil', 'Ashish', 'Anahi', 'Alia', 'Alvin', 'Asim'],\n",
        "    'score': [12.5, 9, 16.5, np.nan, 9, 20, 14.5, np.nan, 8, 19],\n",
        "    'attempts': [1, 3, 2, 3, 2, 3, 1, 1, 2, 1],\n",
        "    'qualify': ['yes', 'no', 'yes', 'no', 'no', 'yes', 'yes', 'no', 'no', 'yes']\n",
        "}\n",
        "labels = ['a', 'b', 'c', 'd', 'e', 'f', 'g', 'h', 'i', 'j']                        #Defining labels\n",
        "\n",
        "df = pd.DataFrame(exam_data, index=labels)                                         #Dataframe creation\n",
        "print(df)\n"
      ],
      "metadata": {
        "colab": {
          "base_uri": "https://localhost:8080/"
        },
        "id": "prlj0xJ2LXDY",
        "outputId": "caf907d0-6204-42c3-8f14-051f0908cb4c"
      },
      "execution_count": 19,
      "outputs": [
        {
          "output_type": "stream",
          "name": "stdout",
          "text": [
            "     name  score  attempts qualify\n",
            "a    Arif   12.5         1     yes\n",
            "b    Asir    9.0         3      no\n",
            "c    Arik   16.5         2     yes\n",
            "d    Anis    NaN         3      no\n",
            "e    Anil    9.0         2      no\n",
            "f  Ashish   20.0         3     yes\n",
            "g   Anahi   14.5         1     yes\n",
            "h    Alia    NaN         1      no\n",
            "i   Alvin    8.0         2      no\n",
            "j    Asim   19.0         1     yes\n"
          ]
        }
      ]
    }
  ]
}